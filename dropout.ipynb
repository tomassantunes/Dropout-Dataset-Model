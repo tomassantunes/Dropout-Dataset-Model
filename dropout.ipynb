{
 "cells": [
  {
   "attachments": {},
   "cell_type": "markdown",
   "metadata": {},
   "source": [
    "### Imports"
   ]
  },
  {
   "cell_type": "code",
   "execution_count": 31,
   "metadata": {},
   "outputs": [],
   "source": [
    "import numpy as np\n",
    "import pandas as pd\n",
    "\n",
    "from sklearn.model_selection import train_test_split\n",
    "from sklearn.naive_bayes import MultinomialNB\n",
    "from sklearn.metrics import confusion_matrix"
   ]
  },
  {
   "attachments": {},
   "cell_type": "markdown",
   "metadata": {},
   "source": [
    "### Definição dos conjuntos de treino, teste e modelos"
   ]
  },
  {
   "cell_type": "code",
   "execution_count": 18,
   "metadata": {},
   "outputs": [],
   "source": [
    "data_train = pd.read_csv(\"test-files/dropout-trabalho2.csv\")\n",
    "data_test = pd.read_csv(\"test-files/dropout-test-modelo.csv\")\n",
    "\n",
    "X_train = data_train.drop([data_train.columns[0]], axis = 1)\n",
    "y_train = data_train[data_train.columns[0]]\n",
    "\n",
    "X_test = data_test.drop([data_test.columns[0]], axis = 1)\n",
    "y_test = data_test[data_test.columns[0]]\n",
    "\n",
    "mnb = MultinomialNB()"
   ]
  },
  {
   "attachments": {},
   "cell_type": "markdown",
   "metadata": {},
   "source": [
    "### Fit do modelo, predict e score"
   ]
  },
  {
   "cell_type": "code",
   "execution_count": 34,
   "metadata": {},
   "outputs": [
    {
     "name": "stdout",
     "output_type": "stream",
     "text": [
      "0.0\n",
      "0.7677725118483413\n"
     ]
    }
   ],
   "source": [
    "mnb.fit(X_train, y_train)\n",
    "pred = mnb.predict(X_test)\n",
    "\n",
    "confusion = confusion_matrix(y_test, pred)\n",
    "\n",
    "print(mnb.score(X_test, y_test))\n",
    "print(mnb.score(X_train, y_train))"
   ]
  }
 ],
 "metadata": {
  "kernelspec": {
   "display_name": "Python 3",
   "language": "python",
   "name": "python3"
  },
  "language_info": {
   "codemirror_mode": {
    "name": "ipython",
    "version": 3
   },
   "file_extension": ".py",
   "mimetype": "text/x-python",
   "name": "python",
   "nbconvert_exporter": "python",
   "pygments_lexer": "ipython3",
   "version": "3.10.7"
  },
  "orig_nbformat": 4,
  "vscode": {
   "interpreter": {
    "hash": "31f2aee4e71d21fbe5cf8b01ff0e069b9275f58929596ceb00d14d90e3e16cd6"
   }
  }
 },
 "nbformat": 4,
 "nbformat_minor": 2
}
